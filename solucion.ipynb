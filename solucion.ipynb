{
 "cells": [
  {
   "cell_type": "code",
   "execution_count": 242,
   "metadata": {},
   "outputs": [],
   "source": [
    "import pandas as pd"
   ]
  },
  {
   "cell_type": "markdown",
   "metadata": {},
   "source": [
    "# Lectura de la base de datos"
   ]
  },
  {
   "cell_type": "code",
   "execution_count": 255,
   "metadata": {},
   "outputs": [],
   "source": [
    "df = pd.read_excel(r'data\\base.xlsx',sheet_name = \" Series a 61\")\n",
    "df_impuestos = pd.read_excel(r'data\\base.xlsx',sheet_name = \"Total\")\n",
    "new_names = ['Año','Q','SG01','SG02','SG03','SG04','SG05','SG06','SG07','SG08','SG09','SG10','SG11','SG12','SG13','SG14','SG15','SG16','SG17','SG18','SG19','SG20','SG21','SG22','SG23','SG24','SG25','SG26','SG27','SG28','SG29','SG30','SG31','SG32','SG33','SG34','SG35','SG36','SG37','SG38','SG39','SG40','SG41','SG42','SG43','SG44','SG45','SG46','SG47','SG48','SG49','SG50','SG51','SG52','SG53','SG54','SG55','SG56','SG57','SG58','SG59','SG60','SG61']\n",
    "df.columns = new_names\n",
    "df_clean = df.iloc[4:]"
   ]
  },
  {
   "cell_type": "markdown",
   "metadata": {},
   "source": [
    "# informacion sobre las agrupaciones"
   ]
  },
  {
   "cell_type": "code",
   "execution_count": 244,
   "metadata": {},
   "outputs": [],
   "source": [
    "# Niveles Agregaciones\n",
    "nivel_25 = df.iloc[2:3]\n",
    "nivel_25 = pd.melt(nivel_25,id_vars=[\"Año\",\"Q\"])\n",
    "nivel_25.drop(columns=[\"Q\",\"Año\"],inplace=True)\n",
    "nivel_25.rename(columns={'value':\"ag_25\"},inplace=True)\n",
    "nivel_25.set_index(\"variable\",inplace=True)"
   ]
  },
  {
   "cell_type": "code",
   "execution_count": 245,
   "metadata": {},
   "outputs": [],
   "source": [
    "# Niveles Agregaciones\n",
    "nivel_12 = df.iloc[3:4]\n",
    "nivel_12 = pd.melt(nivel_12,id_vars=[\"Año\",\"Q\"])\n",
    "nivel_12.drop(columns=[\"Q\",\"Año\"],inplace=True)\n",
    "nivel_12.rename(columns={'value':\"ag_12\"},inplace=True)\n",
    "nivel_12.set_index(\"variable\",inplace=True)"
   ]
  },
  {
   "cell_type": "markdown",
   "metadata": {},
   "source": [
    "# Bases para el cálculo segun el nivel de agregación"
   ]
  },
  {
   "cell_type": "code",
   "execution_count": 296,
   "metadata": {},
   "outputs": [],
   "source": [
    "df_clean_collapsed = pd.melt(df_clean,id_vars=[\"Año\",\"Q\"])\n",
    "df_clean_collapsed.set_index(\"variable\",inplace=True)\n",
    "#joins con los niveles\n",
    "ndf_clean_f = df_clean_collapsed.join(nivel_25,how=\"left\",rsuffix=\"_\")\n",
    "ndf_clean_f = ndf_clean_f.join(nivel_12,how=\"left\",rsuffix=\"_1\")"
   ]
  },
  {
   "cell_type": "code",
   "execution_count": 297,
   "metadata": {},
   "outputs": [],
   "source": [
    "#agregacion total\n",
    "agg_total = df_clean_collapsed.groupby([\"Año\",\"Q\"]).sum().reset_index()"
   ]
  },
  {
   "cell_type": "code",
   "execution_count": 247,
   "metadata": {},
   "outputs": [],
   "source": [
    "ndf_clean_f_25 = ndf_clean_f.drop(columns=\"ag_12\")\n",
    "ndf_clean_f_12 = ndf_clean_f.drop(columns=\"ag_25\")\n",
    "data_agg_nv25 = ndf_clean_f_25.groupby([\"Año\",\"Q\",\"ag_25\"]).sum().reset_index()\n",
    "data_agg_nv12 = ndf_clean_f_12.groupby([\"Año\",\"Q\",\"ag_12\"]).sum().reset_index()"
   ]
  },
  {
   "cell_type": "code",
   "execution_count": 248,
   "metadata": {},
   "outputs": [],
   "source": [
    "# agregracion a nivel 25\n",
    "new_data_agg_nv25 = data_agg_nv25.pivot(index=[\"Año\",\"Q\"], columns=\"ag_25\")\n",
    "new_data_agg_nv25.columns = ['_'.join(col) for col in new_data_agg_nv25.columns]\n",
    "new_data_agg_nv25.reset_index(inplace=True)"
   ]
  },
  {
   "cell_type": "code",
   "execution_count": 252,
   "metadata": {},
   "outputs": [],
   "source": [
    "# agregracion a nivel 12\n",
    "new_data_agg_nv12 = data_agg_nv12.pivot(index=[\"Año\",\"Q\"], columns=\"ag_12\")\n",
    "new_data_agg_nv12.columns = ['_'.join(col) for col in new_data_agg_nv12.columns.map(str)]\n",
    "new_data_agg_nv12.reset_index(inplace=True)\n",
    "nuevas_ = [\"value_\"+str(number) for number in range(1,13)]\n",
    "elem = [\"Año\",\"Q\"]\n",
    "elem.extend(nuevas_)\n",
    "new_data_agg_nv12.columns = elem\n",
    "new_data_agg_nv12"
   ]
  },
  {
   "cell_type": "code",
   "execution_count": 285,
   "metadata": {},
   "outputs": [
    {
     "data": {
      "text/html": [
       "<div>\n",
       "<style scoped>\n",
       "    .dataframe tbody tr th:only-of-type {\n",
       "        vertical-align: middle;\n",
       "    }\n",
       "\n",
       "    .dataframe tbody tr th {\n",
       "        vertical-align: top;\n",
       "    }\n",
       "\n",
       "    .dataframe thead th {\n",
       "        text-align: right;\n",
       "    }\n",
       "</style>\n",
       "<table border=\"1\" class=\"dataframe\">\n",
       "  <thead>\n",
       "    <tr style=\"text-align: right;\">\n",
       "      <th></th>\n",
       "      <th>Año</th>\n",
       "      <th>Q</th>\n",
       "      <th>TX</th>\n",
       "    </tr>\n",
       "  </thead>\n",
       "  <tbody>\n",
       "    <tr>\n",
       "      <th>4</th>\n",
       "      <td>2005</td>\n",
       "      <td>1</td>\n",
       "      <td>10116.975394</td>\n",
       "    </tr>\n",
       "    <tr>\n",
       "      <th>5</th>\n",
       "      <td>2005</td>\n",
       "      <td>2</td>\n",
       "      <td>10557.154372</td>\n",
       "    </tr>\n",
       "    <tr>\n",
       "      <th>6</th>\n",
       "      <td>2005</td>\n",
       "      <td>3</td>\n",
       "      <td>10747.573036</td>\n",
       "    </tr>\n",
       "    <tr>\n",
       "      <th>7</th>\n",
       "      <td>2005</td>\n",
       "      <td>4</td>\n",
       "      <td>11103.297197</td>\n",
       "    </tr>\n",
       "    <tr>\n",
       "      <th>8</th>\n",
       "      <td>2006</td>\n",
       "      <td>1</td>\n",
       "      <td>11537.380003</td>\n",
       "    </tr>\n",
       "    <tr>\n",
       "      <th>...</th>\n",
       "      <td>...</td>\n",
       "      <td>...</td>\n",
       "      <td>...</td>\n",
       "    </tr>\n",
       "    <tr>\n",
       "      <th>66</th>\n",
       "      <td>2020</td>\n",
       "      <td>3</td>\n",
       "      <td>18770.953236</td>\n",
       "    </tr>\n",
       "    <tr>\n",
       "      <th>67</th>\n",
       "      <td>2020</td>\n",
       "      <td>4</td>\n",
       "      <td>20125.764542</td>\n",
       "    </tr>\n",
       "    <tr>\n",
       "      <th>68</th>\n",
       "      <td>2021</td>\n",
       "      <td>1</td>\n",
       "      <td>20683.535937</td>\n",
       "    </tr>\n",
       "    <tr>\n",
       "      <th>69</th>\n",
       "      <td>2021</td>\n",
       "      <td>2</td>\n",
       "      <td>21288.150668</td>\n",
       "    </tr>\n",
       "    <tr>\n",
       "      <th>70</th>\n",
       "      <td>2021</td>\n",
       "      <td>3</td>\n",
       "      <td>21931.374442</td>\n",
       "    </tr>\n",
       "  </tbody>\n",
       "</table>\n",
       "<p>67 rows × 3 columns</p>\n",
       "</div>"
      ],
      "text/plain": [
       "     Año  Q            TX\n",
       "4   2005  1  10116.975394\n",
       "5   2005  2  10557.154372\n",
       "6   2005  3  10747.573036\n",
       "7   2005  4  11103.297197\n",
       "8   2006  1  11537.380003\n",
       "..   ... ..           ...\n",
       "66  2020  3  18770.953236\n",
       "67  2020  4  20125.764542\n",
       "68  2021  1  20683.535937\n",
       "69  2021  2  21288.150668\n",
       "70  2021  3  21931.374442\n",
       "\n",
       "[67 rows x 3 columns]"
      ]
     },
     "execution_count": 285,
     "metadata": {},
     "output_type": "execute_result"
    }
   ],
   "source": [
    "# Niveles Agregaciones\n",
    "df_impuestos_clean = df_impuestos.iloc[4:]\n",
    "names_df_impuestos_clean = [\"Año\",\"Q\",\"VAB\",\"TX\",\"PIB\"]\n",
    "df_impuestos_clean.columns = names_df_impuestos_clean\n",
    "df_impuestos_clean = df_impuestos_clean[[\"Año\",\"Q\",\"TX\"]]\n",
    "df_impuestos_clean"
   ]
  },
  {
   "cell_type": "markdown",
   "metadata": {},
   "source": [
    "# Cálculo del PIB"
   ]
  },
  {
   "cell_type": "code",
   "execution_count": 301,
   "metadata": {},
   "outputs": [],
   "source": [
    "final_df_pib = agg_total.set_index([\"Año\",\"Q\"])\n",
    "df_tx = df_impuestos_clean.set_index([\"Año\",\"Q\"])"
   ]
  },
  {
   "cell_type": "code",
   "execution_count": 312,
   "metadata": {},
   "outputs": [],
   "source": [
    "pib = final_df_pib.join(df_tx)\n",
    "pib.reset_index(inplace=True)\n",
    "pib.rename(columns={\"value\":\"VAB\"},inplace=True)"
   ]
  },
  {
   "cell_type": "code",
   "execution_count": 314,
   "metadata": {},
   "outputs": [
    {
     "data": {
      "text/html": [
       "<div>\n",
       "<style scoped>\n",
       "    .dataframe tbody tr th:only-of-type {\n",
       "        vertical-align: middle;\n",
       "    }\n",
       "\n",
       "    .dataframe tbody tr th {\n",
       "        vertical-align: top;\n",
       "    }\n",
       "\n",
       "    .dataframe thead th {\n",
       "        text-align: right;\n",
       "    }\n",
       "</style>\n",
       "<table border=\"1\" class=\"dataframe\">\n",
       "  <thead>\n",
       "    <tr style=\"text-align: right;\">\n",
       "      <th></th>\n",
       "      <th>Año</th>\n",
       "      <th>Q</th>\n",
       "      <th>VAB</th>\n",
       "      <th>TX</th>\n",
       "      <th>PIB</th>\n",
       "    </tr>\n",
       "  </thead>\n",
       "  <tbody>\n",
       "    <tr>\n",
       "      <th>0</th>\n",
       "      <td>2005</td>\n",
       "      <td>1</td>\n",
       "      <td>118434.185533</td>\n",
       "      <td>10116.975394</td>\n",
       "      <td>128551.160927</td>\n",
       "    </tr>\n",
       "    <tr>\n",
       "      <th>1</th>\n",
       "      <td>2005</td>\n",
       "      <td>2</td>\n",
       "      <td>119141.617273</td>\n",
       "      <td>10557.154372</td>\n",
       "      <td>129698.771644</td>\n",
       "    </tr>\n",
       "    <tr>\n",
       "      <th>2</th>\n",
       "      <td>2005</td>\n",
       "      <td>3</td>\n",
       "      <td>119169.939243</td>\n",
       "      <td>10747.573036</td>\n",
       "      <td>129917.512279</td>\n",
       "    </tr>\n",
       "    <tr>\n",
       "      <th>3</th>\n",
       "      <td>2005</td>\n",
       "      <td>4</td>\n",
       "      <td>121013.257914</td>\n",
       "      <td>11103.297197</td>\n",
       "      <td>132116.555111</td>\n",
       "    </tr>\n",
       "    <tr>\n",
       "      <th>4</th>\n",
       "      <td>2006</td>\n",
       "      <td>1</td>\n",
       "      <td>124199.286280</td>\n",
       "      <td>11537.380003</td>\n",
       "      <td>135736.666282</td>\n",
       "    </tr>\n",
       "    <tr>\n",
       "      <th>...</th>\n",
       "      <td>...</td>\n",
       "      <td>...</td>\n",
       "      <td>...</td>\n",
       "      <td>...</td>\n",
       "      <td>...</td>\n",
       "    </tr>\n",
       "    <tr>\n",
       "      <th>62</th>\n",
       "      <td>2020</td>\n",
       "      <td>3</td>\n",
       "      <td>183660.200116</td>\n",
       "      <td>18770.953236</td>\n",
       "      <td>202431.153352</td>\n",
       "    </tr>\n",
       "    <tr>\n",
       "      <th>63</th>\n",
       "      <td>2020</td>\n",
       "      <td>4</td>\n",
       "      <td>193603.424821</td>\n",
       "      <td>20125.764542</td>\n",
       "      <td>213729.189362</td>\n",
       "    </tr>\n",
       "    <tr>\n",
       "      <th>64</th>\n",
       "      <td>2021</td>\n",
       "      <td>1</td>\n",
       "      <td>201045.923216</td>\n",
       "      <td>20683.535937</td>\n",
       "      <td>221729.459154</td>\n",
       "    </tr>\n",
       "    <tr>\n",
       "      <th>65</th>\n",
       "      <td>2021</td>\n",
       "      <td>2</td>\n",
       "      <td>196732.954353</td>\n",
       "      <td>21288.150668</td>\n",
       "      <td>218021.105021</td>\n",
       "    </tr>\n",
       "    <tr>\n",
       "      <th>66</th>\n",
       "      <td>2021</td>\n",
       "      <td>3</td>\n",
       "      <td>207157.008386</td>\n",
       "      <td>21931.374442</td>\n",
       "      <td>229088.382827</td>\n",
       "    </tr>\n",
       "  </tbody>\n",
       "</table>\n",
       "<p>67 rows × 5 columns</p>\n",
       "</div>"
      ],
      "text/plain": [
       "     Año  Q            VAB            TX            PIB\n",
       "0   2005  1  118434.185533  10116.975394  128551.160927\n",
       "1   2005  2  119141.617273  10557.154372  129698.771644\n",
       "2   2005  3  119169.939243  10747.573036  129917.512279\n",
       "3   2005  4  121013.257914  11103.297197  132116.555111\n",
       "4   2006  1  124199.286280  11537.380003  135736.666282\n",
       "..   ... ..            ...           ...            ...\n",
       "62  2020  3  183660.200116  18770.953236  202431.153352\n",
       "63  2020  4  193603.424821  20125.764542  213729.189362\n",
       "64  2021  1  201045.923216  20683.535937  221729.459154\n",
       "65  2021  2  196732.954353  21288.150668  218021.105021\n",
       "66  2021  3  207157.008386  21931.374442  229088.382827\n",
       "\n",
       "[67 rows x 5 columns]"
      ]
     },
     "execution_count": 314,
     "metadata": {},
     "output_type": "execute_result"
    }
   ],
   "source": [
    "pib[\"PIB\"] = pib[\"VAB\"]+pib[\"TX\"]\n",
    "pib"
   ]
  },
  {
   "cell_type": "markdown",
   "metadata": {},
   "source": [
    "# Variacion Anual 2019"
   ]
  },
  {
   "cell_type": "code",
   "execution_count": 284,
   "metadata": {},
   "outputs": [
    {
     "name": "stdout",
     "output_type": "stream",
     "text": [
      "La variación anual para el 2019 fue de:  5.52 %\n"
     ]
    }
   ],
   "source": [
    "Serie_transporte = new_data_agg_nv25[[\"Año\",\"Q\",\"value_GR15\"]]\n",
    "Serie_transporte_2019 = Serie_transporte[(Serie_transporte[\"Año\"].isin([2019,2018]))&(Serie_transporte[\"Q\"]==3)]\n",
    "Serie_transporte_2019\n",
    "value_2018=Serie_transporte_2019[\"value_GR15\"].iloc[0]\n",
    "value_2019=Serie_transporte_2019[\"value_GR15\"].iloc[1]\n",
    "variacion_anual = round((value_2019-value_2018)/value_2019*100,2)\n",
    "print(\"La variación anual para el 2019 fue de: \",variacion_anual,\"%\")\n"
   ]
  }
 ],
 "metadata": {
  "interpreter": {
   "hash": "247a65d99c938814719a4e270709c167710d1cccba3a619e1cc3652c29da4c12"
  },
  "kernelspec": {
   "display_name": "Python 3.8.4 64-bit ('ambiente': venv)",
   "language": "python",
   "name": "python3"
  },
  "language_info": {
   "codemirror_mode": {
    "name": "ipython",
    "version": 3
   },
   "file_extension": ".py",
   "mimetype": "text/x-python",
   "name": "python",
   "nbconvert_exporter": "python",
   "pygments_lexer": "ipython3",
   "version": "3.8.4"
  },
  "orig_nbformat": 4
 },
 "nbformat": 4,
 "nbformat_minor": 2
}
